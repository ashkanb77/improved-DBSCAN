{
  "cells": [
    {
      "cell_type": "markdown",
      "metadata": {
        "id": "view-in-github",
        "colab_type": "text"
      },
      "source": [
        "<a href=\"https://colab.research.google.com/github/ashkanb77/improved-DBSCAN/blob/main/ImprovedDBSCAN.ipynb\" target=\"_parent\"><img src=\"https://colab.research.google.com/assets/colab-badge.svg\" alt=\"Open In Colab\"/></a>"
      ]
    },
    {
      "cell_type": "code",
      "execution_count": null,
      "metadata": {
        "id": "UYiIN12UNiQZ"
      },
      "outputs": [],
      "source": [
        "import numpy as np\n",
        "import pandas as pd\n",
        "import matplotlib.pyplot as plt"
      ]
    },
    {
      "cell_type": "code",
      "execution_count": null,
      "metadata": {
        "id": "r8ebDL2VNiQg"
      },
      "outputs": [],
      "source": [
        "# plot function to plotting results\n",
        "def plot(X, y):\n",
        "    df = pd.DataFrame(data=np.hstack((X, y.reshape(y.shape[0], 1))), columns=['X1', 'X2', 'y'])\n",
        "    cc = ['red', 'blue', 'green', 'yellow', 'purple', 'orange', 'gray', 'black']\n",
        "    for key, group in df.groupby('y'):\n",
        "        plt.scatter(group.iloc[:, 0], group.iloc[:, 1], color=cc[int(key)])"
      ]
    },
    {
      "cell_type": "code",
      "execution_count": null,
      "outputs": [],
      "source": [
        "class ImprovedDBSCAN:\n",
        "    def __init__(self, k, l, min_points):\n",
        "        self.k = k\n",
        "        self.l = l\n",
        "        self.min_points = min_points\n",
        "        self.cluster = -1\n",
        "        self.X = 0\n",
        "\n",
        "    def fit(self, X):\n",
        "        dists = []\n",
        "        for a in X:\n",
        "            d = np.sqrt(np.sum(np.power(X - a, 2), axis=1))\n",
        "            dists.append(np.sum(np.sort(d)[1:self.l + 1])) # calculate distances of l nearest neighbors\n",
        "        dists = np.array(dists) # convert list to numpy array\n",
        "        args = np.argsort(dists) # sorting distances\n",
        "        dists = dists[args]\n",
        "        X = X[args] # also sorting X according to sorted distances\n",
        "\n",
        "        # reshape dists from (n,) to (n,1) and add -2 column to dists. so dists shape will be (n, 2)\n",
        "        # X[:, -2] will be cluster: -2: undefined, -1: noise, 0-n: clusters\n",
        "        dists = np.hstack((np.reshape(dists, (dists.shape[0], 1)), -2 * np.ones((dists.shape[0], 1))))\n",
        "        X = np.hstack((X, np.zeros((X.shape[0], 1)))) # X[:, -1] = 1 is checked in neighbors updating\n",
        "        neighbors = set()\n",
        "\n",
        "        for k in range(dists.shape[0]):\n",
        "            if dists[k, -1] < 0: # if one sample is undefined or noise\n",
        "                eps = np.sort(np.sqrt(np.sum(np.power(X[:, :-1] - X[k, :-1], 2), axis=1)))[self.k] # calculate eps: k's nearest neighbor dist\n",
        "                X[:, -1] = 0 # set samples not checked\n",
        "                for i in range(X.shape[0]):\n",
        "                    if dists[i, -1] < 0:\n",
        "                        d = np.sqrt(np.sum(np.power(X[:, :-1] - X[i, :-1], 2), axis=1)) # calculate distances\n",
        "                        n = np.where(d <= eps)[0] # where d < eps\n",
        "                        n2 = n[np.where(dists[n, -1] <= -1)] # n's that undefined or noise\n",
        "                        if n2.shape[0] >= self.min_points:\n",
        "\n",
        "                            neighbors.update(n2) # neighbors\n",
        "                            X[i, -1] = 1 # this sample is checked\n",
        "                            self.cluster += 1 # increase cluster number\n",
        "                            dists[n2, -1] = self.cluster # set cluster\n",
        "\n",
        "                        else: # sample is noise with this eps\n",
        "                            dists[i, -1] = -1\n",
        "                        while len(neighbors) > 0:\n",
        "                            j = neighbors.pop() # pop neighbor\n",
        "                            if X[j, -1] == 0:\n",
        "                                X[j, -1] = 1 # checked\n",
        "                                d = np.sqrt(np.sum(np.power(X[:, :-1] - X[j, :-1], 2), axis=1)) # calculate distance\n",
        "                                n = np.where(d <= eps)[0] # d < eps\n",
        "                                n2 = n[np.where(dists[n, -1] <= -1)] # n's are undefined or noise\n",
        "                                if n.shape[0] >= self.min_points:\n",
        "                                    neighbors.update(n2) # update neighbors\n",
        "                                    dists[n2, -1] = self.cluster # cluster neighbor\n",
        "\n",
        "        self.X = X[:, :-1]\n",
        "        return self.X, dists[:, -1] # return tuple or sorted X and labels"
      ],
      "metadata": {
        "pycharm": {
          "name": "#%%\n"
        },
        "id": "IAkEmTr6NiQi"
      }
    },
    {
      "cell_type": "code",
      "execution_count": null,
      "outputs": [],
      "source": [
        "\n",
        "def generate_data(): # generating samples that is hard for normal DBSCAN\n",
        "    xx = np.random.randn(10, 2) * 2 + 3\n",
        "    yy = np.zeros(xx.shape[0])\n",
        "    xx = np.vstack((xx, np.random.rand(10, 2) * 0.5 + np.array([[3, -3]])))\n",
        "    yy = np.hstack((yy, np.ones(10)))\n",
        "    xx = np.vstack((xx, np.random.rand(10, 2) * 0.1 + np.array([[2.6, -3]])))\n",
        "    yy = np.hstack((yy, 2 * np.ones(10)))\n",
        "    return xx, yy"
      ],
      "metadata": {
        "pycharm": {
          "name": "#%%\n"
        },
        "id": "U4dVw5KpNiQl"
      }
    },
    {
      "cell_type": "code",
      "execution_count": null,
      "metadata": {
        "id": "31TSaz22NiQm",
        "outputId": "8ac047e2-4145-4b96-819e-8aae1e4e1067"
      },
      "outputs": [
        {
          "data": {
            "text/plain": "<Figure size 432x288 with 1 Axes>",
            "image/png": "[encoded data removed]"
          },
          "metadata": {
            "needs_background": "light"
          },
          "output_type": "display_data"
        }
      ],
      "source": [
        "X, y = generate_data()\n",
        "plot(X, y)"
      ]
    },
    {
      "cell_type": "code",
      "execution_count": null,
      "metadata": {
        "id": "pdM5ctS6NiQo"
      },
      "outputs": [],
      "source": [
        "dbscan = ImprovedDBSCAN(5, 4, 4) # K = 5 and L = 4 and min_points = 4\n",
        "sorted_X, labels = dbscan.fit(X)"
      ]
    },
    {
      "cell_type": "code",
      "execution_count": null,
      "metadata": {
        "pycharm": {
          "name": "#%%\n"
        },
        "id": "yJu1wZM-NiQp",
        "outputId": "aa4705b5-f295-424f-98c4-0c253a6db3b0"
      },
      "outputs": [
        {
          "data": {
            "text/plain": "<Figure size 432x288 with 1 Axes>",
            "image/png": "[encoded data removed]"
          },
          "metadata": {
            "needs_background": "light"
          },
          "output_type": "display_data"
        }
      ],
      "source": [
        "\n",
        "plot(sorted_X, labels)"
      ]
    },
    {
      "cell_type": "code",
      "execution_count": null,
      "outputs": [],
      "source": [
        ""
      ],
      "metadata": {
        "pycharm": {
          "name": "#%%\n"
        },
        "id": "CJatJYX7NiQq"
      }
    }
  ],
  "metadata": {
    "interpreter": {
      "hash": "352a99ed9ec780754d71b82a3f9ad1648aaec6de509b5b57b190d375773404a4"
    },
    "kernelspec": {
      "display_name": "Python 3.8.8 64-bit ('base': conda)",
      "language": "python",
      "name": "python3"
    },
    "language_info": {
      "codemirror_mode": {
        "name": "ipython",
        "version": 3
      },
      "file_extension": ".py",
      "mimetype": "text/x-python",
      "name": "python",
      "nbconvert_exporter": "python",
      "pygments_lexer": "ipython3",
      "version": "3.8.8"
    },
    "orig_nbformat": 4,
    "colab": {
      "name": "ImprovedDBSCAN.ipynb",
      "provenance": [],
      "include_colab_link": true
    }
  },
  "nbformat": 4,
  "nbformat_minor": 0
}